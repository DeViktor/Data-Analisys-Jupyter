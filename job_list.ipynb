{
 "cells": [
  {
   "cell_type": "code",
   "execution_count": 28,
   "metadata": {},
   "outputs": [
    {
     "data": {
      "text/html": [
       "<div>\n",
       "<style scoped>\n",
       "    .dataframe tbody tr th:only-of-type {\n",
       "        vertical-align: middle;\n",
       "    }\n",
       "\n",
       "    .dataframe tbody tr th {\n",
       "        vertical-align: top;\n",
       "    }\n",
       "\n",
       "    .dataframe thead th {\n",
       "        text-align: right;\n",
       "    }\n",
       "</style>\n",
       "<table border=\"1\" class=\"dataframe\">\n",
       "  <thead>\n",
       "    <tr style=\"text-align: right;\">\n",
       "      <th></th>\n",
       "      <th>Title</th>\n",
       "      <th>Company</th>\n",
       "      <th>Location</th>\n",
       "      <th>Type of Positions</th>\n",
       "      <th>Job Description</th>\n",
       "      <th>Salary</th>\n",
       "      <th>Identified_Skills</th>\n",
       "    </tr>\n",
       "  </thead>\n",
       "  <tbody>\n",
       "    <tr>\n",
       "      <th>0</th>\n",
       "      <td>Staff Applied Scientist, Marketplace</td>\n",
       "      <td>ThredUp Inc.</td>\n",
       "      <td>CA</td>\n",
       "      <td>Full-time</td>\n",
       "      <td>\\nAbout thredUP thredUP is transforming resale...</td>\n",
       "      <td>190000.0</td>\n",
       "      <td>['python', 'machine learning', 'aws', 'sql']</td>\n",
       "    </tr>\n",
       "  </tbody>\n",
       "</table>\n",
       "</div>"
      ],
      "text/plain": [
       "                                  Title       Company Location  \\\n",
       "0  Staff Applied Scientist, Marketplace  ThredUp Inc.       CA   \n",
       "\n",
       "  Type of Positions                                    Job Description  \\\n",
       "0         Full-time  \\nAbout thredUP thredUP is transforming resale...   \n",
       "\n",
       "     Salary                             Identified_Skills  \n",
       "0  190000.0  ['python', 'machine learning', 'aws', 'sql']  "
      ]
     },
     "execution_count": 28,
     "metadata": {},
     "output_type": "execute_result"
    }
   ],
   "source": [
    "import pandas as pd\n",
    "\n",
    "df = pd.read_csv(\"./datas/final_job_list.csv\")\n",
    "\n",
    "# df.head(5)\n",
    "\n",
    "filter1 = df.loc[df['Title'] == 'Staff Applied Scientist, Marketplace' ]\n",
    "filter1"
   ]
  }
 ],
 "metadata": {
  "kernelspec": {
   "display_name": "venv",
   "language": "python",
   "name": "python3"
  },
  "language_info": {
   "codemirror_mode": {
    "name": "ipython",
    "version": 3
   },
   "file_extension": ".py",
   "mimetype": "text/x-python",
   "name": "python",
   "nbconvert_exporter": "python",
   "pygments_lexer": "ipython3",
   "version": "3.12.1"
  }
 },
 "nbformat": 4,
 "nbformat_minor": 2
}
